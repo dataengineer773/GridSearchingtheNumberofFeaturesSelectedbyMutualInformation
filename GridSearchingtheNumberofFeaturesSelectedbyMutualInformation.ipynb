{
 "cells": [
  {
   "cell_type": "code",
   "execution_count": 1,
   "id": "2790f62f-4b37-4f8d-9b95-7ab32d6ccea6",
   "metadata": {},
   "outputs": [],
   "source": [
    "from sklearn.datasets import make_regression\n",
    "from sklearn.model_selection import train_test_split\n",
    "from sklearn.linear_model import LinearRegression\n",
    "from sklearn.metrics import mean_absolute_error\n",
    "from sklearn.feature_selection import mutual_info_regression\n",
    "from sklearn.feature_selection import SelectKBest\n",
    "from sklearn.feature_selection import f_regression\n",
    "from sklearn.pipeline import Pipeline\n",
    "from sklearn.model_selection import RepeatedKFold\n",
    "from sklearn.model_selection import GridSearchCV"
   ]
  },
  {
   "cell_type": "code",
   "execution_count": 2,
   "id": "20a03400-b0d5-437a-84a0-e76d9ed6759a",
   "metadata": {},
   "outputs": [],
   "source": [
    "# Define Dataset\n",
    "X, y = make_regression(n_samples=1000, n_features=100, n_informative=10, noise=0.1, random_state=1)"
   ]
  },
  {
   "cell_type": "code",
   "execution_count": 3,
   "id": "5232f042-e1a4-4db1-8080-78ae55191458",
   "metadata": {},
   "outputs": [],
   "source": [
    "# Define the evaluation Method\n",
    "cv = RepeatedKFold(n_splits=10, n_repeats=3, random_state=1)"
   ]
  },
  {
   "cell_type": "code",
   "execution_count": 4,
   "id": "1091fb66-3bba-4f6b-8da2-6d1ed9a0526f",
   "metadata": {},
   "outputs": [],
   "source": [
    "# Define the Pipeline evaluate\n",
    "model = LinearRegression()\n",
    "fs = SelectKBest(score_func=mutual_info_regression)\n",
    "pipeline = Pipeline(steps=[('sel', fs), ('ir', model)])"
   ]
  },
  {
   "cell_type": "code",
   "execution_count": 5,
   "id": "a5207254-4f69-4326-ab64-8bc99a3eefc1",
   "metadata": {},
   "outputs": [],
   "source": [
    "# Define the Grid\n",
    "grid = dict()\n",
    "grid['sel__k'] = [i for i in range(X.shape[1]-20, X.shape[1]+1)]"
   ]
  },
  {
   "cell_type": "code",
   "execution_count": 6,
   "id": "434811c1-9b73-4f04-a7de-9b8d1c6d8da7",
   "metadata": {},
   "outputs": [],
   "source": [
    "# Define the Grid search\n",
    "search = GridSearchCV(pipeline, grid, scoring='neg_mean_absolute_error', n_jobs=-1, cv=cv)"
   ]
  },
  {
   "cell_type": "code",
   "execution_count": 7,
   "id": "c290f13f-2996-4282-8470-f0b2e44dd9c1",
   "metadata": {},
   "outputs": [],
   "source": [
    "# perform the search\n",
    "results = search.fit(X, y)"
   ]
  },
  {
   "cell_type": "code",
   "execution_count": 8,
   "id": "a99faaac-e770-46e3-b9c6-7ff1932614ff",
   "metadata": {},
   "outputs": [
    {
     "name": "stdout",
     "output_type": "stream",
     "text": [
      "BEST MAE: -0.082\n",
      "BEST CONFIG: {'sel__k': 81}\n"
     ]
    }
   ],
   "source": [
    "# summarize best\n",
    "print('BEST MAE: %.3f' % results.best_score_)\n",
    "print('BEST CONFIG: %s' % results.best_params_)"
   ]
  },
  {
   "cell_type": "code",
   "execution_count": 9,
   "id": "a2ecb421-7e05-4b50-b3a4-e5feeacbed6b",
   "metadata": {},
   "outputs": [
    {
     "name": "stdout",
     "output_type": "stream",
     "text": [
      ">-1.100 with : {'sel__k': 80}\n",
      ">-0.082 with : {'sel__k': 81}\n",
      ">-0.082 with : {'sel__k': 82}\n",
      ">-0.082 with : {'sel__k': 83}\n",
      ">-0.082 with : {'sel__k': 84}\n",
      ">-0.082 with : {'sel__k': 85}\n",
      ">-0.082 with : {'sel__k': 86}\n",
      ">-0.082 with : {'sel__k': 87}\n",
      ">-0.082 with : {'sel__k': 88}\n",
      ">-0.083 with : {'sel__k': 89}\n",
      ">-0.083 with : {'sel__k': 90}\n",
      ">-0.083 with : {'sel__k': 91}\n",
      ">-0.083 with : {'sel__k': 92}\n",
      ">-0.083 with : {'sel__k': 93}\n",
      ">-0.083 with : {'sel__k': 94}\n",
      ">-0.083 with : {'sel__k': 95}\n",
      ">-0.083 with : {'sel__k': 96}\n",
      ">-0.083 with : {'sel__k': 97}\n",
      ">-0.083 with : {'sel__k': 98}\n",
      ">-0.083 with : {'sel__k': 99}\n",
      ">-0.083 with : {'sel__k': 100}\n"
     ]
    }
   ],
   "source": [
    "# summarize all\n",
    "means = results.cv_results_['mean_test_score']\n",
    "params = results.cv_results_['params']\n",
    "for mean, param in zip(means, params):\n",
    "    print('>%.3f with : %r' % (mean, param))"
   ]
  },
  {
   "cell_type": "code",
   "execution_count": null,
   "id": "b68f9866-925c-49f2-9649-3c2c280e854a",
   "metadata": {},
   "outputs": [],
   "source": []
  }
 ],
 "metadata": {
  "kernelspec": {
   "display_name": "Python 3 (ipykernel)",
   "language": "python",
   "name": "python3"
  },
  "language_info": {
   "codemirror_mode": {
    "name": "ipython",
    "version": 3
   },
   "file_extension": ".py",
   "mimetype": "text/x-python",
   "name": "python",
   "nbconvert_exporter": "python",
   "pygments_lexer": "ipython3",
   "version": "3.10.12"
  }
 },
 "nbformat": 4,
 "nbformat_minor": 5
}
